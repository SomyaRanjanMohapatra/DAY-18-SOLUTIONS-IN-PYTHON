{
 "cells": [
  {
   "cell_type": "code",
   "execution_count": null,
   "metadata": {},
   "outputs": [],
   "source": [
    "n= int(input())\n",
    "a=[]\n",
    "for i in range(n):\n",
    "    a.append(input())\n",
    "for i in a:\n",
    "    temp = i.split()\n",
    "    tem=[int(temp[0]),int(temp[1])]\n",
    "    con=True\n",
    "    add=0\n",
    "    sub=0\n",
    "    useadd=False\n",
    "    usesub=False\n",
    "    while con:\n",
    "        if tem[0]%tem[1] == 0:\n",
    "            con=False\n",
    "        elif((tem[0]+add)%tem[1]==0):\n",
    "            useadd=True\n",
    "            con=False\n",
    "        elif((tem[0]-sub)%tem[1]==0):\n",
    "            usesub=True\n",
    "            con=False\n",
    "        else:\n",
    "            add=add+1\n",
    "            sub=sub+1\n",
    "    if usesub == True and useadd == True:\n",
    "        if add == sub:\n",
    "            print(add)\n",
    "    elif useadd == True:\n",
    "        print(add)\n",
    "    elif usesub == True:\n",
    "        print(sub)"
   ]
  },
  {
   "cell_type": "code",
   "execution_count": null,
   "metadata": {},
   "outputs": [],
   "source": []
  }
 ],
 "metadata": {
  "kernelspec": {
   "display_name": "Python 2",
   "language": "python",
   "name": "python2"
  },
  "language_info": {
   "codemirror_mode": {
    "name": "ipython",
    "version": 2
   },
   "file_extension": ".py",
   "mimetype": "text/x-python",
   "name": "python",
   "nbconvert_exporter": "python",
   "pygments_lexer": "ipython2",
   "version": "2.7.16"
  }
 },
 "nbformat": 4,
 "nbformat_minor": 2
}
